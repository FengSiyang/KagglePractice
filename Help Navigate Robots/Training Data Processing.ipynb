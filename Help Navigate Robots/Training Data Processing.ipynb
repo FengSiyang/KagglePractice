{
    "nbformat_minor": 1, 
    "cells": [
        {
            "source": "### Token Added\nThis notebook is run under the IBM Watson Studio.  \nThus, the data insert is different from the normal data processing.\n\nThere are two steps before the major processing:  \n1. Upload data assets into IBM Watson Project\n2. Create token and insert into the notebook (the first cell) for the later final data accessing  \n\n", 
            "cell_type": "markdown", 
            "metadata": {}
        }, 
        {
            "source": "# @hidden_cell\n# The project token is an authorization token that is used to access project resources like data sources, connections, and used by platform APIs.\nfrom project_lib import Project\nproject = Project(project_id='10308584-75a2-44b1-b5c5-d0ee0ea4840e', project_access_token='p-1ff59996d40f2a41765d5168e32aa3237a9966ec')\npc = project.project_context\n", 
            "cell_type": "code", 
            "metadata": {}, 
            "outputs": [], 
            "execution_count": 2
        }, 
        {
            "source": "import numpy as np\nimport pandas as pd\nimport sys", 
            "cell_type": "code", 
            "metadata": {}, 
            "outputs": [], 
            "execution_count": 3
        }, 
        {
            "source": "# System info\nprint(sys.version_info)", 
            "cell_type": "code", 
            "metadata": {}, 
            "outputs": [
                {
                    "output_type": "stream", 
                    "name": "stdout", 
                    "text": "sys.version_info(major=3, minor=5, micro=5, releaselevel='final', serial=0)\n"
                }
            ], 
            "execution_count": 4
        }, 
        {
            "source": "### Insert data (X_train.csv, Y_train.csv)", 
            "cell_type": "markdown", 
            "metadata": {}
        }, 
        {
            "source": "import types\nimport pandas as pd\nfrom botocore.client import Config\nimport ibm_boto3\n\ndef __iter__(self): return 0\n\n# @hidden_cell\n# The following code accesses a file in your IBM Cloud Object Storage. It includes your credentials.\n# You might want to remove those credentials before you share your notebook.\nclient_bb2ff9ec7be94d32a0bcbbd5629362b2 = ibm_boto3.client(service_name='s3',\n    ibm_api_key_id='CWeC0la3wD3mvbpFpn2ZIzg4jQv5EZ4UTmc7ohqTOdrF',\n    ibm_auth_endpoint=\"https://iam.bluemix.net/oidc/token\",\n    config=Config(signature_version='oauth'),\n    endpoint_url='https://s3-api.us-geo.objectstorage.service.networklayer.com')\n\nbody = client_bb2ff9ec7be94d32a0bcbbd5629362b2.get_object(Bucket='mlhelpnavigaterobots-donotdelete-pr-y9h1hr72ryyche',Key='X_train.csv')['Body']\n# add missing __iter__ method, so pandas accepts body as file-like object\nif not hasattr(body, \"__iter__\"): body.__iter__ = types.MethodType( __iter__, body )\n\nX_train = pd.read_csv(body)\n\n\nbody = client_bb2ff9ec7be94d32a0bcbbd5629362b2.get_object(Bucket='mlhelpnavigaterobots-donotdelete-pr-y9h1hr72ryyche',Key='y_train.csv')['Body']\n# add missing __iter__ method, so pandas accepts body as file-like object\nif not hasattr(body, \"__iter__\"): body.__iter__ = types.MethodType( __iter__, body )\n\nY_train = pd.read_csv(body)\n\n", 
            "cell_type": "code", 
            "metadata": {}, 
            "outputs": [], 
            "execution_count": 5
        }, 
        {
            "source": "# Display X_train data\nX_train.tail(10)", 
            "cell_type": "code", 
            "metadata": {}, 
            "outputs": [
                {
                    "output_type": "execute_result", 
                    "data": {
                        "text/plain": "          row_id  series_id  measurement_number  orientation_X  orientation_Y  \\\n487670  3809_118       3809                 118        0.62824       -0.76917   \n487671  3809_119       3809                 119        0.62831       -0.76912   \n487672  3809_120       3809                 120        0.62838       -0.76906   \n487673  3809_121       3809                 121        0.62845       -0.76899   \n487674  3809_122       3809                 122        0.62856       -0.76890   \n487675  3809_123       3809                 123        0.62871       -0.76878   \n487676  3809_124       3809                 124        0.62884       -0.76868   \n487677  3809_125       3809                 125        0.62891       -0.76861   \n487678  3809_126       3809                 126        0.62903       -0.76850   \n487679  3809_127       3809                 127        0.62915       -0.76839   \n\n        orientation_Z  orientation_W  angular_velocity_X  angular_velocity_Y  \\\n487670      -0.084778       0.080621            0.006636            0.109980   \n487671      -0.084648       0.080769            0.006267            0.165260   \n487672      -0.084546       0.080858            0.018649            0.114640   \n487673      -0.084540       0.080911            0.023261            0.071968   \n487674      -0.084453       0.081021           -0.001146            0.124560   \n487675      -0.084391       0.081093            0.003167            0.093760   \n487676      -0.084365       0.081099            0.014994            0.032637   \n487677      -0.084345       0.081178           -0.031184           -0.003961   \n487678      -0.084414       0.081231           -0.069153            0.013229   \n487679      -0.084441       0.081284           -0.042769            0.034049   \n\n        angular_velocity_Z  linear_acceleration_X  linear_acceleration_Y  \\\n487670           -0.052170               -0.63579                 2.8324   \n487671           -0.053871                2.33030                 3.7376   \n487672           -0.062610                0.28030                 2.8864   \n487673           -0.096275                3.97270                 3.0608   \n487674           -0.101340                4.05960                 3.9223   \n487675           -0.142740                3.27180                 2.0115   \n487676           -0.132380                4.42750                 3.0696   \n487677           -0.138940                2.70480                 4.2622   \n487678           -0.130210                2.54100                 4.7130   \n487679           -0.125800                0.82391                 4.2751   \n\n        linear_acceleration_Z  \n487670               -13.2950  \n487671               -13.3650  \n487672               -11.7880  \n487673               -11.2320  \n487674                -9.3404  \n487675                -9.0063  \n487676                -8.1257  \n487677                -8.1443  \n487678                -9.4435  \n487679               -10.4980  ", 
                        "text/html": "<div>\n<style scoped>\n    .dataframe tbody tr th:only-of-type {\n        vertical-align: middle;\n    }\n\n    .dataframe tbody tr th {\n        vertical-align: top;\n    }\n\n    .dataframe thead th {\n        text-align: right;\n    }\n</style>\n<table border=\"1\" class=\"dataframe\">\n  <thead>\n    <tr style=\"text-align: right;\">\n      <th></th>\n      <th>row_id</th>\n      <th>series_id</th>\n      <th>measurement_number</th>\n      <th>orientation_X</th>\n      <th>orientation_Y</th>\n      <th>orientation_Z</th>\n      <th>orientation_W</th>\n      <th>angular_velocity_X</th>\n      <th>angular_velocity_Y</th>\n      <th>angular_velocity_Z</th>\n      <th>linear_acceleration_X</th>\n      <th>linear_acceleration_Y</th>\n      <th>linear_acceleration_Z</th>\n    </tr>\n  </thead>\n  <tbody>\n    <tr>\n      <th>487670</th>\n      <td>3809_118</td>\n      <td>3809</td>\n      <td>118</td>\n      <td>0.62824</td>\n      <td>-0.76917</td>\n      <td>-0.084778</td>\n      <td>0.080621</td>\n      <td>0.006636</td>\n      <td>0.109980</td>\n      <td>-0.052170</td>\n      <td>-0.63579</td>\n      <td>2.8324</td>\n      <td>-13.2950</td>\n    </tr>\n    <tr>\n      <th>487671</th>\n      <td>3809_119</td>\n      <td>3809</td>\n      <td>119</td>\n      <td>0.62831</td>\n      <td>-0.76912</td>\n      <td>-0.084648</td>\n      <td>0.080769</td>\n      <td>0.006267</td>\n      <td>0.165260</td>\n      <td>-0.053871</td>\n      <td>2.33030</td>\n      <td>3.7376</td>\n      <td>-13.3650</td>\n    </tr>\n    <tr>\n      <th>487672</th>\n      <td>3809_120</td>\n      <td>3809</td>\n      <td>120</td>\n      <td>0.62838</td>\n      <td>-0.76906</td>\n      <td>-0.084546</td>\n      <td>0.080858</td>\n      <td>0.018649</td>\n      <td>0.114640</td>\n      <td>-0.062610</td>\n      <td>0.28030</td>\n      <td>2.8864</td>\n      <td>-11.7880</td>\n    </tr>\n    <tr>\n      <th>487673</th>\n      <td>3809_121</td>\n      <td>3809</td>\n      <td>121</td>\n      <td>0.62845</td>\n      <td>-0.76899</td>\n      <td>-0.084540</td>\n      <td>0.080911</td>\n      <td>0.023261</td>\n      <td>0.071968</td>\n      <td>-0.096275</td>\n      <td>3.97270</td>\n      <td>3.0608</td>\n      <td>-11.2320</td>\n    </tr>\n    <tr>\n      <th>487674</th>\n      <td>3809_122</td>\n      <td>3809</td>\n      <td>122</td>\n      <td>0.62856</td>\n      <td>-0.76890</td>\n      <td>-0.084453</td>\n      <td>0.081021</td>\n      <td>-0.001146</td>\n      <td>0.124560</td>\n      <td>-0.101340</td>\n      <td>4.05960</td>\n      <td>3.9223</td>\n      <td>-9.3404</td>\n    </tr>\n    <tr>\n      <th>487675</th>\n      <td>3809_123</td>\n      <td>3809</td>\n      <td>123</td>\n      <td>0.62871</td>\n      <td>-0.76878</td>\n      <td>-0.084391</td>\n      <td>0.081093</td>\n      <td>0.003167</td>\n      <td>0.093760</td>\n      <td>-0.142740</td>\n      <td>3.27180</td>\n      <td>2.0115</td>\n      <td>-9.0063</td>\n    </tr>\n    <tr>\n      <th>487676</th>\n      <td>3809_124</td>\n      <td>3809</td>\n      <td>124</td>\n      <td>0.62884</td>\n      <td>-0.76868</td>\n      <td>-0.084365</td>\n      <td>0.081099</td>\n      <td>0.014994</td>\n      <td>0.032637</td>\n      <td>-0.132380</td>\n      <td>4.42750</td>\n      <td>3.0696</td>\n      <td>-8.1257</td>\n    </tr>\n    <tr>\n      <th>487677</th>\n      <td>3809_125</td>\n      <td>3809</td>\n      <td>125</td>\n      <td>0.62891</td>\n      <td>-0.76861</td>\n      <td>-0.084345</td>\n      <td>0.081178</td>\n      <td>-0.031184</td>\n      <td>-0.003961</td>\n      <td>-0.138940</td>\n      <td>2.70480</td>\n      <td>4.2622</td>\n      <td>-8.1443</td>\n    </tr>\n    <tr>\n      <th>487678</th>\n      <td>3809_126</td>\n      <td>3809</td>\n      <td>126</td>\n      <td>0.62903</td>\n      <td>-0.76850</td>\n      <td>-0.084414</td>\n      <td>0.081231</td>\n      <td>-0.069153</td>\n      <td>0.013229</td>\n      <td>-0.130210</td>\n      <td>2.54100</td>\n      <td>4.7130</td>\n      <td>-9.4435</td>\n    </tr>\n    <tr>\n      <th>487679</th>\n      <td>3809_127</td>\n      <td>3809</td>\n      <td>127</td>\n      <td>0.62915</td>\n      <td>-0.76839</td>\n      <td>-0.084441</td>\n      <td>0.081284</td>\n      <td>-0.042769</td>\n      <td>0.034049</td>\n      <td>-0.125800</td>\n      <td>0.82391</td>\n      <td>4.2751</td>\n      <td>-10.4980</td>\n    </tr>\n  </tbody>\n</table>\n</div>"
                    }, 
                    "execution_count": 6, 
                    "metadata": {}
                }
            ], 
            "execution_count": 6
        }, 
        {
            "source": "# Display Y_train data\nY_train.tail(10)", 
            "cell_type": "code", 
            "metadata": {}, 
            "outputs": [
                {
                    "output_type": "execute_result", 
                    "data": {
                        "text/plain": "      series_id  group_id                 surface\n3800       3800        68           fine_concrete\n3801       3801        59  hard_tiles_large_space\n3802       3802        55                   tiled\n3803       3803        45                    wood\n3804       3804        66                   tiled\n3805       3805        55                   tiled\n3806       3806        67                    wood\n3807       3807        48           fine_concrete\n3808       3808        54                   tiled\n3809       3809        56                soft_pvc", 
                        "text/html": "<div>\n<style scoped>\n    .dataframe tbody tr th:only-of-type {\n        vertical-align: middle;\n    }\n\n    .dataframe tbody tr th {\n        vertical-align: top;\n    }\n\n    .dataframe thead th {\n        text-align: right;\n    }\n</style>\n<table border=\"1\" class=\"dataframe\">\n  <thead>\n    <tr style=\"text-align: right;\">\n      <th></th>\n      <th>series_id</th>\n      <th>group_id</th>\n      <th>surface</th>\n    </tr>\n  </thead>\n  <tbody>\n    <tr>\n      <th>3800</th>\n      <td>3800</td>\n      <td>68</td>\n      <td>fine_concrete</td>\n    </tr>\n    <tr>\n      <th>3801</th>\n      <td>3801</td>\n      <td>59</td>\n      <td>hard_tiles_large_space</td>\n    </tr>\n    <tr>\n      <th>3802</th>\n      <td>3802</td>\n      <td>55</td>\n      <td>tiled</td>\n    </tr>\n    <tr>\n      <th>3803</th>\n      <td>3803</td>\n      <td>45</td>\n      <td>wood</td>\n    </tr>\n    <tr>\n      <th>3804</th>\n      <td>3804</td>\n      <td>66</td>\n      <td>tiled</td>\n    </tr>\n    <tr>\n      <th>3805</th>\n      <td>3805</td>\n      <td>55</td>\n      <td>tiled</td>\n    </tr>\n    <tr>\n      <th>3806</th>\n      <td>3806</td>\n      <td>67</td>\n      <td>wood</td>\n    </tr>\n    <tr>\n      <th>3807</th>\n      <td>3807</td>\n      <td>48</td>\n      <td>fine_concrete</td>\n    </tr>\n    <tr>\n      <th>3808</th>\n      <td>3808</td>\n      <td>54</td>\n      <td>tiled</td>\n    </tr>\n    <tr>\n      <th>3809</th>\n      <td>3809</td>\n      <td>56</td>\n      <td>soft_pvc</td>\n    </tr>\n  </tbody>\n</table>\n</div>"
                    }, 
                    "execution_count": 7, 
                    "metadata": {}
                }
            ], 
            "execution_count": 7
        }, 
        {
            "source": "X_train.shape", 
            "cell_type": "code", 
            "metadata": {}, 
            "outputs": [
                {
                    "output_type": "execute_result", 
                    "data": {
                        "text/plain": "(487680, 13)"
                    }, 
                    "execution_count": 8, 
                    "metadata": {}
                }
            ], 
            "execution_count": 8
        }, 
        {
            "source": "Y_train.shape", 
            "cell_type": "code", 
            "metadata": {}, 
            "outputs": [
                {
                    "output_type": "execute_result", 
                    "data": {
                        "text/plain": "(3810, 3)"
                    }, 
                    "execution_count": 9, 
                    "metadata": {}
                }
            ], 
            "execution_count": 9
        }, 
        {
            "source": "#list(Y_train.columns.values)\nY_train.columns.tolist()", 
            "cell_type": "code", 
            "metadata": {}, 
            "outputs": [
                {
                    "output_type": "execute_result", 
                    "data": {
                        "text/plain": "['series_id', 'group_id', 'surface']"
                    }, 
                    "execution_count": 10, 
                    "metadata": {}
                }
            ], 
            "execution_count": 10
        }, 
        {
            "source": "Merge two dataframe (X_train and Y_train) into one with the foreign key `series_id`.\n\nIn this competition, one series has the same floor surface.", 
            "cell_type": "markdown", 
            "metadata": {}
        }, 
        {
            "source": "D_train = pd.merge(X_train, Y_train, on='series_id')\nD_train.head()", 
            "cell_type": "code", 
            "metadata": {}, 
            "outputs": [
                {
                    "output_type": "execute_result", 
                    "data": {
                        "text/plain": "  row_id  series_id  measurement_number  orientation_X  orientation_Y  \\\n0    0_0          0                   0       -0.75853       -0.63435   \n1    0_1          0                   1       -0.75853       -0.63434   \n2    0_2          0                   2       -0.75853       -0.63435   \n3    0_3          0                   3       -0.75852       -0.63436   \n4    0_4          0                   4       -0.75852       -0.63435   \n\n   orientation_Z  orientation_W  angular_velocity_X  angular_velocity_Y  \\\n0       -0.10488       -0.10597            0.107650            0.017561   \n1       -0.10490       -0.10600            0.067851            0.029939   \n2       -0.10492       -0.10597            0.007275            0.028934   \n3       -0.10495       -0.10597           -0.013053            0.019448   \n4       -0.10495       -0.10596            0.005135            0.007652   \n\n   angular_velocity_Z  linear_acceleration_X  linear_acceleration_Y  \\\n0            0.000767               -0.74857                 2.1030   \n1            0.003385                0.33995                 1.5064   \n2           -0.005978               -0.26429                 1.5922   \n3           -0.008974                0.42684                 1.0993   \n4            0.005245               -0.50969                 1.4689   \n\n   linear_acceleration_Z  group_id        surface  \n0                -9.7532        13  fine_concrete  \n1                -9.4128        13  fine_concrete  \n2                -8.7267        13  fine_concrete  \n3               -10.0960        13  fine_concrete  \n4               -10.4410        13  fine_concrete  ", 
                        "text/html": "<div>\n<style scoped>\n    .dataframe tbody tr th:only-of-type {\n        vertical-align: middle;\n    }\n\n    .dataframe tbody tr th {\n        vertical-align: top;\n    }\n\n    .dataframe thead th {\n        text-align: right;\n    }\n</style>\n<table border=\"1\" class=\"dataframe\">\n  <thead>\n    <tr style=\"text-align: right;\">\n      <th></th>\n      <th>row_id</th>\n      <th>series_id</th>\n      <th>measurement_number</th>\n      <th>orientation_X</th>\n      <th>orientation_Y</th>\n      <th>orientation_Z</th>\n      <th>orientation_W</th>\n      <th>angular_velocity_X</th>\n      <th>angular_velocity_Y</th>\n      <th>angular_velocity_Z</th>\n      <th>linear_acceleration_X</th>\n      <th>linear_acceleration_Y</th>\n      <th>linear_acceleration_Z</th>\n      <th>group_id</th>\n      <th>surface</th>\n    </tr>\n  </thead>\n  <tbody>\n    <tr>\n      <th>0</th>\n      <td>0_0</td>\n      <td>0</td>\n      <td>0</td>\n      <td>-0.75853</td>\n      <td>-0.63435</td>\n      <td>-0.10488</td>\n      <td>-0.10597</td>\n      <td>0.107650</td>\n      <td>0.017561</td>\n      <td>0.000767</td>\n      <td>-0.74857</td>\n      <td>2.1030</td>\n      <td>-9.7532</td>\n      <td>13</td>\n      <td>fine_concrete</td>\n    </tr>\n    <tr>\n      <th>1</th>\n      <td>0_1</td>\n      <td>0</td>\n      <td>1</td>\n      <td>-0.75853</td>\n      <td>-0.63434</td>\n      <td>-0.10490</td>\n      <td>-0.10600</td>\n      <td>0.067851</td>\n      <td>0.029939</td>\n      <td>0.003385</td>\n      <td>0.33995</td>\n      <td>1.5064</td>\n      <td>-9.4128</td>\n      <td>13</td>\n      <td>fine_concrete</td>\n    </tr>\n    <tr>\n      <th>2</th>\n      <td>0_2</td>\n      <td>0</td>\n      <td>2</td>\n      <td>-0.75853</td>\n      <td>-0.63435</td>\n      <td>-0.10492</td>\n      <td>-0.10597</td>\n      <td>0.007275</td>\n      <td>0.028934</td>\n      <td>-0.005978</td>\n      <td>-0.26429</td>\n      <td>1.5922</td>\n      <td>-8.7267</td>\n      <td>13</td>\n      <td>fine_concrete</td>\n    </tr>\n    <tr>\n      <th>3</th>\n      <td>0_3</td>\n      <td>0</td>\n      <td>3</td>\n      <td>-0.75852</td>\n      <td>-0.63436</td>\n      <td>-0.10495</td>\n      <td>-0.10597</td>\n      <td>-0.013053</td>\n      <td>0.019448</td>\n      <td>-0.008974</td>\n      <td>0.42684</td>\n      <td>1.0993</td>\n      <td>-10.0960</td>\n      <td>13</td>\n      <td>fine_concrete</td>\n    </tr>\n    <tr>\n      <th>4</th>\n      <td>0_4</td>\n      <td>0</td>\n      <td>4</td>\n      <td>-0.75852</td>\n      <td>-0.63435</td>\n      <td>-0.10495</td>\n      <td>-0.10596</td>\n      <td>0.005135</td>\n      <td>0.007652</td>\n      <td>0.005245</td>\n      <td>-0.50969</td>\n      <td>1.4689</td>\n      <td>-10.4410</td>\n      <td>13</td>\n      <td>fine_concrete</td>\n    </tr>\n  </tbody>\n</table>\n</div>"
                    }, 
                    "execution_count": 11, 
                    "metadata": {}
                }
            ], 
            "execution_count": 11
        }, 
        {
            "source": "D_train.shape", 
            "cell_type": "code", 
            "metadata": {}, 
            "outputs": [
                {
                    "output_type": "execute_result", 
                    "data": {
                        "text/plain": "(487680, 15)"
                    }, 
                    "execution_count": 12, 
                    "metadata": {}
                }
            ], 
            "execution_count": 12
        }, 
        {
            "source": "D_train.surface.value_counts()", 
            "cell_type": "code", 
            "metadata": {}, 
            "outputs": [
                {
                    "output_type": "execute_result", 
                    "data": {
                        "text/plain": "concrete                  99712\nsoft_pvc                  93696\nwood                      77696\ntiled                     65792\nfine_concrete             46464\nhard_tiles_large_space    39424\nsoft_tiles                38016\ncarpet                    24192\nhard_tiles                 2688\nName: surface, dtype: int64"
                    }, 
                    "execution_count": 13, 
                    "metadata": {}
                }
            ], 
            "execution_count": 13
        }, 
        {
            "source": "D_train.surface.describe()", 
            "cell_type": "code", 
            "metadata": {}, 
            "outputs": [
                {
                    "output_type": "execute_result", 
                    "data": {
                        "text/plain": "count       487680\nunique           9\ntop       concrete\nfreq         99712\nName: surface, dtype: object"
                    }, 
                    "execution_count": 14, 
                    "metadata": {}
                }
            ], 
            "execution_count": 14
        }, 
        {
            "source": "Want the unique values in the `surface` column:", 
            "cell_type": "markdown", 
            "metadata": {}
        }, 
        {
            "source": "keys = D_train.surface.unique().tolist()\nkeys", 
            "cell_type": "code", 
            "metadata": {}, 
            "outputs": [
                {
                    "output_type": "execute_result", 
                    "data": {
                        "text/plain": "['fine_concrete',\n 'concrete',\n 'soft_tiles',\n 'tiled',\n 'soft_pvc',\n 'hard_tiles_large_space',\n 'carpet',\n 'hard_tiles',\n 'wood']"
                    }, 
                    "execution_count": 15, 
                    "metadata": {}
                }
            ], 
            "execution_count": 15
        }, 
        {
            "source": "values = range(len(keys))\nlist(values)", 
            "cell_type": "code", 
            "metadata": {}, 
            "outputs": [
                {
                    "output_type": "execute_result", 
                    "data": {
                        "text/plain": "[0, 1, 2, 3, 4, 5, 6, 7, 8]"
                    }, 
                    "execution_count": 22, 
                    "metadata": {}
                }
            ], 
            "execution_count": 22
        }, 
        {
            "source": "value_dic = dict(zip(keys, values))\nvalue_dic", 
            "cell_type": "code", 
            "metadata": {}, 
            "outputs": [
                {
                    "output_type": "execute_result", 
                    "data": {
                        "text/plain": "{'carpet': 6,\n 'concrete': 1,\n 'fine_concrete': 0,\n 'hard_tiles': 7,\n 'hard_tiles_large_space': 5,\n 'soft_pvc': 4,\n 'soft_tiles': 2,\n 'tiled': 3,\n 'wood': 8}"
                    }, 
                    "execution_count": 26, 
                    "metadata": {}
                }
            ], 
            "execution_count": 26
        }, 
        {
            "source": "value_dic['carpet']", 
            "cell_type": "code", 
            "metadata": {}, 
            "outputs": [
                {
                    "output_type": "execute_result", 
                    "data": {
                        "text/plain": "6"
                    }, 
                    "execution_count": 28, 
                    "metadata": {}
                }
            ], 
            "execution_count": 28
        }, 
        {
            "source": "D_train.surface = [value_dic[i] for i in D_train.surface]", 
            "cell_type": "code", 
            "metadata": {}, 
            "outputs": [], 
            "execution_count": 30
        }, 
        {
            "source": "D_train.tail()", 
            "cell_type": "code", 
            "metadata": {}, 
            "outputs": [
                {
                    "output_type": "execute_result", 
                    "data": {
                        "text/plain": "          row_id  series_id  measurement_number  orientation_X  orientation_Y  \\\n487675  3809_123       3809                 123        0.62871       -0.76878   \n487676  3809_124       3809                 124        0.62884       -0.76868   \n487677  3809_125       3809                 125        0.62891       -0.76861   \n487678  3809_126       3809                 126        0.62903       -0.76850   \n487679  3809_127       3809                 127        0.62915       -0.76839   \n\n        orientation_Z  orientation_W  angular_velocity_X  angular_velocity_Y  \\\n487675      -0.084391       0.081093            0.003167            0.093760   \n487676      -0.084365       0.081099            0.014994            0.032637   \n487677      -0.084345       0.081178           -0.031184           -0.003961   \n487678      -0.084414       0.081231           -0.069153            0.013229   \n487679      -0.084441       0.081284           -0.042769            0.034049   \n\n        angular_velocity_Z  linear_acceleration_X  linear_acceleration_Y  \\\n487675            -0.14274                3.27180                 2.0115   \n487676            -0.13238                4.42750                 3.0696   \n487677            -0.13894                2.70480                 4.2622   \n487678            -0.13021                2.54100                 4.7130   \n487679            -0.12580                0.82391                 4.2751   \n\n        linear_acceleration_Z  group_id  surface  \n487675                -9.0063        56        4  \n487676                -8.1257        56        4  \n487677                -8.1443        56        4  \n487678                -9.4435        56        4  \n487679               -10.4980        56        4  ", 
                        "text/html": "<div>\n<style scoped>\n    .dataframe tbody tr th:only-of-type {\n        vertical-align: middle;\n    }\n\n    .dataframe tbody tr th {\n        vertical-align: top;\n    }\n\n    .dataframe thead th {\n        text-align: right;\n    }\n</style>\n<table border=\"1\" class=\"dataframe\">\n  <thead>\n    <tr style=\"text-align: right;\">\n      <th></th>\n      <th>row_id</th>\n      <th>series_id</th>\n      <th>measurement_number</th>\n      <th>orientation_X</th>\n      <th>orientation_Y</th>\n      <th>orientation_Z</th>\n      <th>orientation_W</th>\n      <th>angular_velocity_X</th>\n      <th>angular_velocity_Y</th>\n      <th>angular_velocity_Z</th>\n      <th>linear_acceleration_X</th>\n      <th>linear_acceleration_Y</th>\n      <th>linear_acceleration_Z</th>\n      <th>group_id</th>\n      <th>surface</th>\n    </tr>\n  </thead>\n  <tbody>\n    <tr>\n      <th>487675</th>\n      <td>3809_123</td>\n      <td>3809</td>\n      <td>123</td>\n      <td>0.62871</td>\n      <td>-0.76878</td>\n      <td>-0.084391</td>\n      <td>0.081093</td>\n      <td>0.003167</td>\n      <td>0.093760</td>\n      <td>-0.14274</td>\n      <td>3.27180</td>\n      <td>2.0115</td>\n      <td>-9.0063</td>\n      <td>56</td>\n      <td>4</td>\n    </tr>\n    <tr>\n      <th>487676</th>\n      <td>3809_124</td>\n      <td>3809</td>\n      <td>124</td>\n      <td>0.62884</td>\n      <td>-0.76868</td>\n      <td>-0.084365</td>\n      <td>0.081099</td>\n      <td>0.014994</td>\n      <td>0.032637</td>\n      <td>-0.13238</td>\n      <td>4.42750</td>\n      <td>3.0696</td>\n      <td>-8.1257</td>\n      <td>56</td>\n      <td>4</td>\n    </tr>\n    <tr>\n      <th>487677</th>\n      <td>3809_125</td>\n      <td>3809</td>\n      <td>125</td>\n      <td>0.62891</td>\n      <td>-0.76861</td>\n      <td>-0.084345</td>\n      <td>0.081178</td>\n      <td>-0.031184</td>\n      <td>-0.003961</td>\n      <td>-0.13894</td>\n      <td>2.70480</td>\n      <td>4.2622</td>\n      <td>-8.1443</td>\n      <td>56</td>\n      <td>4</td>\n    </tr>\n    <tr>\n      <th>487678</th>\n      <td>3809_126</td>\n      <td>3809</td>\n      <td>126</td>\n      <td>0.62903</td>\n      <td>-0.76850</td>\n      <td>-0.084414</td>\n      <td>0.081231</td>\n      <td>-0.069153</td>\n      <td>0.013229</td>\n      <td>-0.13021</td>\n      <td>2.54100</td>\n      <td>4.7130</td>\n      <td>-9.4435</td>\n      <td>56</td>\n      <td>4</td>\n    </tr>\n    <tr>\n      <th>487679</th>\n      <td>3809_127</td>\n      <td>3809</td>\n      <td>127</td>\n      <td>0.62915</td>\n      <td>-0.76839</td>\n      <td>-0.084441</td>\n      <td>0.081284</td>\n      <td>-0.042769</td>\n      <td>0.034049</td>\n      <td>-0.12580</td>\n      <td>0.82391</td>\n      <td>4.2751</td>\n      <td>-10.4980</td>\n      <td>56</td>\n      <td>4</td>\n    </tr>\n  </tbody>\n</table>\n</div>"
                    }, 
                    "execution_count": 35, 
                    "metadata": {}
                }
            ], 
            "execution_count": 35
        }, 
        {
            "source": "Testing data is splited from the whole training data.  \nBecause there is no testing data to test the model accuracy.  \nAnd, the provided testing data has no result.", 
            "cell_type": "markdown", 
            "metadata": {}
        }, 
        {
            "source": "from sklearn.cross_validation import train_test_split", 
            "cell_type": "code", 
            "metadata": {}, 
            "outputs": [
                {
                    "output_type": "stream", 
                    "name": "stderr", 
                    "text": "/opt/conda/envs/DSX-Python35/lib/python3.5/site-packages/sklearn/cross_validation.py:41: DeprecationWarning: This module was deprecated in version 0.18 in favor of the model_selection module into which all the refactored classes and functions are moved. Also note that the interface of the new CV iterators are different from that of this module. This module will be removed in 0.20.\n  \"This module will be removed in 0.20.\", DeprecationWarning)\n"
                }
            ], 
            "execution_count": 41
        }, 
        {
            "source": "train, test = train_test_split(D_train, test_size=0.2, random_state=0, stratify=D_train.surface)", 
            "cell_type": "code", 
            "metadata": {}, 
            "outputs": [], 
            "execution_count": 42
        }, 
        {
            "source": "train.shape", 
            "cell_type": "code", 
            "metadata": {}, 
            "outputs": [
                {
                    "output_type": "execute_result", 
                    "data": {
                        "text/plain": "(390144, 15)"
                    }, 
                    "execution_count": 44, 
                    "metadata": {}
                }
            ], 
            "execution_count": 44
        }, 
        {
            "source": "test.shape", 
            "cell_type": "code", 
            "metadata": {}, 
            "outputs": [
                {
                    "output_type": "execute_result", 
                    "data": {
                        "text/plain": "(97536, 15)"
                    }, 
                    "execution_count": 45, 
                    "metadata": {}
                }
            ], 
            "execution_count": 45
        }, 
        {
            "source": "train.shape[0] + test.shape[0]", 
            "cell_type": "code", 
            "metadata": {}, 
            "outputs": [
                {
                    "output_type": "execute_result", 
                    "data": {
                        "text/plain": "487680"
                    }, 
                    "execution_count": 48, 
                    "metadata": {}
                }
            ], 
            "execution_count": 48
        }, 
        {
            "source": "### Export testing and training data (train, test)", 
            "cell_type": "markdown", 
            "metadata": {}
        }, 
        {
            "source": "project.save_data(data=train.to_csv(index=False), file_name='train.csv', overwrite=True)", 
            "cell_type": "code", 
            "metadata": {}, 
            "outputs": [
                {
                    "output_type": "execute_result", 
                    "data": {
                        "text/plain": "{'asset_id': '49c40327-7654-4490-8071-db88b94ddcf7',\n 'bucket_name': 'mlhelpnavigaterobots-donotdelete-pr-y9h1hr72ryyche',\n 'file_name': 'train.csv',\n 'message': 'File saved to project storage.'}"
                    }, 
                    "execution_count": 49, 
                    "metadata": {}
                }
            ], 
            "execution_count": 49
        }, 
        {
            "source": "project.save_data(data=test.to_csv(index=False), file_name='test.csv', overwrite=True)", 
            "cell_type": "code", 
            "metadata": {}, 
            "outputs": [
                {
                    "output_type": "execute_result", 
                    "data": {
                        "text/plain": "{'asset_id': '2372092e-d66e-4813-a8f9-361065811ba3',\n 'bucket_name': 'mlhelpnavigaterobots-donotdelete-pr-y9h1hr72ryyche',\n 'file_name': 'test.csv',\n 'message': 'File saved to project storage.'}"
                    }, 
                    "execution_count": 50, 
                    "metadata": {}
                }
            ], 
            "execution_count": 50
        }
    ], 
    "metadata": {
        "kernelspec": {
            "display_name": "Python 3.5", 
            "name": "python3", 
            "language": "python"
        }, 
        "language_info": {
            "mimetype": "text/x-python", 
            "nbconvert_exporter": "python", 
            "version": "3.5.5", 
            "name": "python", 
            "pygments_lexer": "ipython3", 
            "file_extension": ".py", 
            "codemirror_mode": {
                "version": 3, 
                "name": "ipython"
            }
        }
    }, 
    "nbformat": 4
}